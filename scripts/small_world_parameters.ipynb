{
 "cells": [
  {
   "cell_type": "code",
   "execution_count": 1,
   "id": "069a1da8",
   "metadata": {},
   "outputs": [],
   "source": [
    "import sys\n",
    "sys.path.append('/home/fenglab/Desktop/transdiff_GRN/src/')\n",
    "\n",
    "from topology import *"
   ]
  },
  {
   "cell_type": "code",
   "execution_count": 2,
   "id": "b22816fa",
   "metadata": {},
   "outputs": [],
   "source": [
    "treatments = ['Anp', 'AMn', 'AMp', 'AMnp']\n",
    "runs = list(np.arange(1,11))\n",
    "steps_p = np.linspace(0.2,0.9,351)\n",
    "steps_n = np.linspace(0.04,0.4,181)\n",
    "steps_n_AMn = np.linspace(0.1,0.6,181)\n",
    "treatment = treatments[0]"
   ]
  },
  {
   "cell_type": "code",
   "execution_count": 3,
   "id": "d4bc2839",
   "metadata": {
    "scrolled": true
   },
   "outputs": [
    {
     "name": "stdout",
     "output_type": "stream",
     "text": [
      "Calculating best minimal value for power law fit\n",
      "Calculating best minimal value for power law fit\n",
      "Calculating best minimal value for power law fit\n",
      "Calculating best minimal value for power law fit\n",
      "Calculating best minimal value for power law fit\n",
      "Calculating best minimal value for power law fit\n",
      "Calculating best minimal value for power law fit\n",
      "Calculating best minimal value for power law fit\n",
      "Calculating best minimal value for power law fit\n",
      "Calculating best minimal value for power law fit\n",
      "Calculating best minimal value for power law fit\n",
      "Calculating best minimal value for power law fit\n",
      "Calculating best minimal value for power law fit\n",
      "Calculating best minimal value for power law fit\n",
      "Calculating best minimal value for power law fit\n",
      "Calculating best minimal value for power law fit\n",
      "Calculating best minimal value for power law fit\n",
      "Calculating best minimal value for power law fit\n",
      "Calculating best minimal value for power law fit\n",
      "Calculating best minimal value for power law fit\n",
      "Calculating best minimal value for power law fit\n",
      "Calculating best minimal value for power law fit\n",
      "Calculating best minimal value for power law fit\n",
      "Calculating best minimal value for power law fit\n",
      "xmin progress: 83%\r"
     ]
    },
    {
     "name": "stderr",
     "output_type": "stream",
     "text": [
      "/home/fenglab/miniconda3/envs/my_env/lib/python3.7/site-packages/networkx/algorithms/smallworld.py:301: RuntimeWarning: divide by zero encountered in double_scalars\n",
      "  sigma = (C / Cr) / (L / Lr)\n"
     ]
    },
    {
     "name": "stdout",
     "output_type": "stream",
     "text": [
      "Calculating best minimal value for power law fit\n",
      "Calculating best minimal value for power law fit\n",
      "Calculating best minimal value for power law fit\n",
      "Calculating best minimal value for power law fit\n",
      "Calculating best minimal value for power law fit\n",
      "Calculating best minimal value for power law fit\n",
      "xmin progress: 80%\r"
     ]
    },
    {
     "name": "stderr",
     "output_type": "stream",
     "text": [
      "/home/fenglab/miniconda3/envs/my_env/lib/python3.7/site-packages/networkx/algorithms/smallworld.py:301: RuntimeWarning: divide by zero encountered in double_scalars\n",
      "  sigma = (C / Cr) / (L / Lr)\n"
     ]
    },
    {
     "name": "stdout",
     "output_type": "stream",
     "text": [
      "Calculating best minimal value for power law fit\n",
      "Calculating best minimal value for power law fit\n",
      "xmin progress: 75%\r"
     ]
    },
    {
     "name": "stderr",
     "output_type": "stream",
     "text": [
      "/home/fenglab/miniconda3/envs/my_env/lib/python3.7/site-packages/networkx/algorithms/smallworld.py:301: RuntimeWarning: divide by zero encountered in double_scalars\n",
      "  sigma = (C / Cr) / (L / Lr)\n"
     ]
    },
    {
     "name": "stdout",
     "output_type": "stream",
     "text": [
      "Calculating best minimal value for power law fit\n",
      "xmin progress: 75%\r"
     ]
    },
    {
     "name": "stderr",
     "output_type": "stream",
     "text": [
      "/home/fenglab/miniconda3/envs/my_env/lib/python3.7/site-packages/networkx/algorithms/smallworld.py:301: RuntimeWarning: divide by zero encountered in double_scalars\n",
      "  sigma = (C / Cr) / (L / Lr)\n"
     ]
    },
    {
     "name": "stdout",
     "output_type": "stream",
     "text": [
      "Calculating best minimal value for power law fit\n",
      "xmin progress: 75%\r"
     ]
    },
    {
     "name": "stderr",
     "output_type": "stream",
     "text": [
      "/home/fenglab/miniconda3/envs/my_env/lib/python3.7/site-packages/networkx/algorithms/smallworld.py:301: RuntimeWarning: divide by zero encountered in double_scalars\n",
      "  sigma = (C / Cr) / (L / Lr)\n"
     ]
    },
    {
     "name": "stdout",
     "output_type": "stream",
     "text": [
      "Calculating best minimal value for power law fit\n",
      "Calculating best minimal value for power law fit\n",
      "xmin progress: 75%\r"
     ]
    },
    {
     "name": "stderr",
     "output_type": "stream",
     "text": [
      "/home/fenglab/miniconda3/envs/my_env/lib/python3.7/site-packages/networkx/algorithms/smallworld.py:301: RuntimeWarning: divide by zero encountered in double_scalars\n",
      "  sigma = (C / Cr) / (L / Lr)\n"
     ]
    },
    {
     "name": "stdout",
     "output_type": "stream",
     "text": [
      "Calculating best minimal value for power law fit\n",
      "xmin progress: 75%\r"
     ]
    },
    {
     "name": "stderr",
     "output_type": "stream",
     "text": [
      "/home/fenglab/miniconda3/envs/my_env/lib/python3.7/site-packages/networkx/algorithms/smallworld.py:301: RuntimeWarning: divide by zero encountered in double_scalars\n",
      "  sigma = (C / Cr) / (L / Lr)\n"
     ]
    },
    {
     "name": "stdout",
     "output_type": "stream",
     "text": [
      "Calculating best minimal value for power law fit\n",
      "xmin progress: 75%\r"
     ]
    },
    {
     "name": "stderr",
     "output_type": "stream",
     "text": [
      "/home/fenglab/miniconda3/envs/my_env/lib/python3.7/site-packages/networkx/algorithms/smallworld.py:301: RuntimeWarning: invalid value encountered in double_scalars\n",
      "  sigma = (C / Cr) / (L / Lr)\n"
     ]
    },
    {
     "name": "stdout",
     "output_type": "stream",
     "text": [
      "Calculating best minimal value for power law fit\n",
      "xmin progress: 75%\r"
     ]
    },
    {
     "name": "stderr",
     "output_type": "stream",
     "text": [
      "/home/fenglab/miniconda3/envs/my_env/lib/python3.7/site-packages/networkx/algorithms/smallworld.py:301: RuntimeWarning: invalid value encountered in double_scalars\n",
      "  sigma = (C / Cr) / (L / Lr)\n"
     ]
    },
    {
     "name": "stdout",
     "output_type": "stream",
     "text": [
      "Calculating best minimal value for power law fit\n",
      "Calculating best minimal value for power law fit\n",
      "xmin progress: 75%\r"
     ]
    },
    {
     "name": "stderr",
     "output_type": "stream",
     "text": [
      "/home/fenglab/miniconda3/envs/my_env/lib/python3.7/site-packages/networkx/algorithms/smallworld.py:301: RuntimeWarning: invalid value encountered in double_scalars\n",
      "  sigma = (C / Cr) / (L / Lr)\n"
     ]
    },
    {
     "name": "stdout",
     "output_type": "stream",
     "text": [
      "Calculating best minimal value for power law fit\n",
      "xmin progress: 75%\r"
     ]
    },
    {
     "name": "stderr",
     "output_type": "stream",
     "text": [
      "/home/fenglab/miniconda3/envs/my_env/lib/python3.7/site-packages/networkx/algorithms/smallworld.py:301: RuntimeWarning: invalid value encountered in double_scalars\n",
      "  sigma = (C / Cr) / (L / Lr)\n"
     ]
    },
    {
     "name": "stdout",
     "output_type": "stream",
     "text": [
      "Calculating best minimal value for power law fit\n",
      "xmin progress: 66%\r"
     ]
    },
    {
     "name": "stderr",
     "output_type": "stream",
     "text": [
      "/home/fenglab/miniconda3/envs/my_env/lib/python3.7/site-packages/networkx/algorithms/smallworld.py:301: RuntimeWarning: invalid value encountered in double_scalars\n",
      "  sigma = (C / Cr) / (L / Lr)\n"
     ]
    },
    {
     "name": "stdout",
     "output_type": "stream",
     "text": [
      "Calculating best minimal value for power law fit\n",
      "xmin progress: 66%\r"
     ]
    },
    {
     "name": "stderr",
     "output_type": "stream",
     "text": [
      "/home/fenglab/miniconda3/envs/my_env/lib/python3.7/site-packages/networkx/algorithms/smallworld.py:301: RuntimeWarning: invalid value encountered in double_scalars\n",
      "  sigma = (C / Cr) / (L / Lr)\n"
     ]
    },
    {
     "name": "stdout",
     "output_type": "stream",
     "text": [
      "Calculating best minimal value for power law fit\n",
      "Calculating best minimal value for power law fit\n",
      "Calculating best minimal value for power law fit\n",
      "Calculating best minimal value for power law fit\n",
      "Calculating best minimal value for power law fit\n",
      "Calculating best minimal value for power law fit\n",
      "Calculating best minimal value for power law fit\n",
      "Calculating best minimal value for power law fit\n",
      "Calculating best minimal value for power law fit\n",
      "Calculating best minimal value for power law fit\n",
      "Calculating best minimal value for power law fit\n",
      "Calculating best minimal value for power law fit\n",
      "Calculating best minimal value for power law fit\n",
      "Calculating best minimal value for power law fit\n",
      "Calculating best minimal value for power law fit\n",
      "Calculating best minimal value for power law fit\n",
      "Calculating best minimal value for power law fit\n",
      "Calculating best minimal value for power law fit\n",
      "Calculating best minimal value for power law fit\n",
      "Calculating best minimal value for power law fit\n",
      "Calculating best minimal value for power law fit\n",
      "Calculating best minimal value for power law fit\n",
      "Calculating best minimal value for power law fit\n",
      "Calculating best minimal value for power law fit\n",
      "Calculating best minimal value for power law fit\n",
      "Calculating best minimal value for power law fit\n",
      "Calculating best minimal value for power law fit\n",
      "Calculating best minimal value for power law fit\n",
      "Calculating best minimal value for power law fit\n",
      "Calculating best minimal value for power law fit\n",
      "Calculating best minimal value for power law fit\n",
      "Calculating best minimal value for power law fit\n",
      "Calculating best minimal value for power law fit\n",
      "Calculating best minimal value for power law fit\n",
      "Calculating best minimal value for power law fit\n",
      "Calculating best minimal value for power law fit\n",
      "Calculating best minimal value for power law fit\n",
      "Calculating best minimal value for power law fit\n",
      "Calculating best minimal value for power law fit\n",
      "Calculating best minimal value for power law fit\n",
      "Calculating best minimal value for power law fit\n",
      "Calculating best minimal value for power law fit\n",
      "Calculating best minimal value for power law fit\n",
      "Calculating best minimal value for power law fit\n",
      "Calculating best minimal value for power law fit\n",
      "Calculating best minimal value for power law fit\n",
      "Calculating best minimal value for power law fit\n",
      "Calculating best minimal value for power law fit\n",
      "Calculating best minimal value for power law fit\n",
      "Calculating best minimal value for power law fit\n",
      "Calculating best minimal value for power law fit\n",
      "Calculating best minimal value for power law fit\n",
      "Calculating best minimal value for power law fit\n",
      "Calculating best minimal value for power law fit\n",
      "Calculating best minimal value for power law fit\n",
      "xmin progress: 83%\r"
     ]
    },
    {
     "name": "stderr",
     "output_type": "stream",
     "text": [
      "/home/fenglab/miniconda3/envs/my_env/lib/python3.7/site-packages/networkx/algorithms/smallworld.py:301: RuntimeWarning: divide by zero encountered in double_scalars\n",
      "  sigma = (C / Cr) / (L / Lr)\n"
     ]
    },
    {
     "name": "stdout",
     "output_type": "stream",
     "text": [
      "Calculating best minimal value for power law fit\n",
      "Calculating best minimal value for power law fit\n",
      "Calculating best minimal value for power law fit\n",
      "Calculating best minimal value for power law fit\n",
      "xmin progress: 80%\r"
     ]
    },
    {
     "name": "stderr",
     "output_type": "stream",
     "text": [
      "/home/fenglab/miniconda3/envs/my_env/lib/python3.7/site-packages/networkx/algorithms/smallworld.py:301: RuntimeWarning: divide by zero encountered in double_scalars\n",
      "  sigma = (C / Cr) / (L / Lr)\n"
     ]
    },
    {
     "name": "stdout",
     "output_type": "stream",
     "text": [
      "Calculating best minimal value for power law fit\n",
      "xmin progress: 80%\r"
     ]
    },
    {
     "name": "stderr",
     "output_type": "stream",
     "text": [
      "/home/fenglab/miniconda3/envs/my_env/lib/python3.7/site-packages/networkx/algorithms/smallworld.py:301: RuntimeWarning: divide by zero encountered in double_scalars\n",
      "  sigma = (C / Cr) / (L / Lr)\n"
     ]
    },
    {
     "name": "stdout",
     "output_type": "stream",
     "text": [
      "Calculating best minimal value for power law fit\n",
      "Calculating best minimal value for power law fit\n",
      "Calculating best minimal value for power law fit\n",
      "Calculating best minimal value for power law fit\n",
      "Calculating best minimal value for power law fit\n",
      "Calculating best minimal value for power law fit\n",
      "Calculating best minimal value for power law fit\n",
      "Calculating best minimal value for power law fit\n",
      "Calculating best minimal value for power law fit\n",
      "Calculating best minimal value for power law fit\n",
      "Calculating best minimal value for power law fit\n",
      "xmin progress: 88%\r"
     ]
    }
   ],
   "source": [
    "for run in runs:\n",
    "    DG = read_directed_grn(f'./../results/GRN/{treatment}_{run}.txt')\n",
    "    for step_p in steps_p:\n",
    "        DGp = remove_edge(DG, step_p, component='positive')\n",
    "        # set smallest number of nodes in the graph at 20\n",
    "        if len(list(DGp.nodes))>=20:\n",
    "            # set time limit at 1 h for the function\n",
    "            run_with_limited_time(compute_topology_parameters, \n",
    "                                  (DGp,f'./../results/topology_{treatment}.txt',treatment, \n",
    "                                   run, step_p,'positive',), \n",
    "                                  {}, 3600)\n",
    "        else:\n",
    "            break\n",
    "            \n",
    "    for step_n in steps_n:\n",
    "        DGn = remove_edge(DG, step_n, component='negative')\n",
    "        DGn = nxedge_to_positive(DGn)\n",
    "        # set smallest number of nodes in the graph at 20\n",
    "        if len(list(DGn.nodes))>=20:\n",
    "            # set time limit at 1 h for the function\n",
    "            run_with_limited_time(compute_topology_parameters, \n",
    "                                  (DGn,f'./../results/topology_{treatment}.txt',treatment, \n",
    "                                   run, step_n,'negative',), \n",
    "                                  {}, 3600)\n",
    "        else:\n",
    "            break"
   ]
  }
 ],
 "metadata": {
  "kernelspec": {
   "display_name": "Python 3 (ipykernel)",
   "language": "python",
   "name": "python3"
  },
  "language_info": {
   "codemirror_mode": {
    "name": "ipython",
    "version": 3
   },
   "file_extension": ".py",
   "mimetype": "text/x-python",
   "name": "python",
   "nbconvert_exporter": "python",
   "pygments_lexer": "ipython3",
   "version": "3.7.9"
  }
 },
 "nbformat": 4,
 "nbformat_minor": 5
}
