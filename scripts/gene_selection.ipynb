{
 "cells": [
  {
   "cell_type": "code",
   "execution_count": 24,
   "id": "c260b303",
   "metadata": {},
   "outputs": [],
   "source": [
    "import pandas as pd\n",
    "import numpy as np\n",
    "from scipy import stats\n",
    "import statsmodels.api as sm\n",
    "from statsmodels.formula.api import ols\n",
    "from statsmodels.stats.multitest import multipletests\n",
    "\n",
    "\n",
    "def group_anova(geneid, df):\n",
    "    '''2 way anova'''\n",
    "    lst_treatment = ['A']*9+['B']*9+['C']*9+['D']*9\n",
    "    lst_day = ['d3', 'd7', 'd14']*12\n",
    "    if df.loc[geneid].mean()<=0:\n",
    "        result = np.array([np.NaN,np.NaN,np.NaN])\n",
    "    else:\n",
    "        df_gene = pd.DataFrame(df.loc[geneid])\n",
    "        df_gene['treatment'] = lst_treatment\n",
    "        df_gene['day'] = lst_day\n",
    "        df_melt = pd.melt(df_gene, id_vars=['treatment', 'day'], value_vars=[geneid])\n",
    "        model = ols('value ~ C(treatment) + C(day) + C(treatment):C(day)', data = df_melt).fit()\n",
    "        table = sm.stats.anova_lm(model, typ = 2)\n",
    "        result = np.array(table['PR(>F)'][:3])\n",
    "    return result"
   ]
  },
  {
   "cell_type": "code",
   "execution_count": 21,
   "id": "4c3cda63",
   "metadata": {},
   "outputs": [],
   "source": [
    "# read log2 normalized expression matrix\n",
    "dfrlog = pd.read_csv('./../data/rlog_matrix.csv', index_col=0).rename_axis('geneid')"
   ]
  },
  {
   "cell_type": "code",
   "execution_count": 22,
   "id": "a22d708e",
   "metadata": {},
   "outputs": [],
   "source": [
    "# 2 way anova for all genes\n",
    "anova_ls = np.empty((len(dfrlog), 3))\n",
    "for n in range(len(dfrlog)):\n",
    "    anova_ls[n, :] = group_anova(list(dfrlog.index)[n], dfrlog)\n",
    "dfpval = pd.DataFrame(anova_ls, index = dfrlog.index, columns = ['treatment', 'day', 'interaction'])"
   ]
  },
  {
   "cell_type": "code",
   "execution_count": 33,
   "id": "ceb84082",
   "metadata": {},
   "outputs": [],
   "source": [
    "# multiple tests correction for p value\n",
    "(_, dfpval['adj_treatment'],_, _) = multipletests(dfpval['treatment'], method='bonferroni')"
   ]
  },
  {
   "cell_type": "code",
   "execution_count": 45,
   "id": "ea0ee8fd",
   "metadata": {},
   "outputs": [],
   "source": [
    "# rank genes by treatment p value and select first 800 genes\n",
    "grn_genes = dfpval.sort_values(by = 'adj_treatment')[:800].index"
   ]
  },
  {
   "cell_type": "code",
   "execution_count": 49,
   "id": "e8ade8b3",
   "metadata": {},
   "outputs": [],
   "source": [
    "# revert log2 normalized value to original value (recommended by PoLoBag)\n",
    "(2**dfrlog[dfrlog.index.isin(grn_genes)]-0.5).to_csv('./../data/grn_expression.txt', sep='\\t')"
   ]
  }
 ],
 "metadata": {
  "kernelspec": {
   "display_name": "Python 3",
   "language": "python",
   "name": "python3"
  },
  "language_info": {
   "codemirror_mode": {
    "name": "ipython",
    "version": 3
   },
   "file_extension": ".py",
   "mimetype": "text/x-python",
   "name": "python",
   "nbconvert_exporter": "python",
   "pygments_lexer": "ipython3",
   "version": "3.7.9"
  }
 },
 "nbformat": 4,
 "nbformat_minor": 5
}
