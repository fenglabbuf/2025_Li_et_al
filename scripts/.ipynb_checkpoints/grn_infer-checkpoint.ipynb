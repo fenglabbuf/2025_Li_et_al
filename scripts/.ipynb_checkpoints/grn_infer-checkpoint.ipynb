{
 "cells": [
  {
   "cell_type": "code",
   "execution_count": 1,
   "id": "9888ef3a",
   "metadata": {},
   "outputs": [],
   "source": [
    "import sys\n",
    "sys.path.append('/home/fenglab/Desktop/transdiff_GRN/src/')\n",
    "\n",
    "from PoLoBag import *"
   ]
  },
  {
   "cell_type": "code",
   "execution_count": 2,
   "id": "0e33283a",
   "metadata": {},
   "outputs": [],
   "source": [
    "infile = './../data/grn_expression.txt'\n",
    "outfile_prefix = './../results/GRN/'\n",
    "\n",
    "treatments = ['Anp', 'AMn', 'AMp', 'AMnp']\n",
    "mask = np.repeat(np.arange(4), 9)"
   ]
  },
  {
   "cell_type": "code",
   "execution_count": 3,
   "id": "37910497",
   "metadata": {},
   "outputs": [],
   "source": [
    "for seed in range(1,11):\n",
    "    compute = PoLoBag(samples = 36, random_seed=seed)\n",
    "    for treatment in treatments:\n",
    "        compute.infer_from_file(infile, f'{outfile_prefix}{treatment}_{seed}.txt', \n",
    "                                select=(mask==treatments.index(treatment)))"
   ]
  },
  {
   "cell_type": "code",
   "execution_count": null,
   "id": "1c4a2106",
   "metadata": {},
   "outputs": [],
   "source": []
  }
 ],
 "metadata": {
  "kernelspec": {
   "display_name": "Python 3",
   "language": "python",
   "name": "python3"
  },
  "language_info": {
   "codemirror_mode": {
    "name": "ipython",
    "version": 3
   },
   "file_extension": ".py",
   "mimetype": "text/x-python",
   "name": "python",
   "nbconvert_exporter": "python",
   "pygments_lexer": "ipython3",
   "version": "3.7.9"
  }
 },
 "nbformat": 4,
 "nbformat_minor": 5
}
