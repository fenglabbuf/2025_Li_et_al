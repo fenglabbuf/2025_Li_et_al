{
 "cells": [
  {
   "cell_type": "code",
   "execution_count": 1,
   "id": "e69fb1fe",
   "metadata": {},
   "outputs": [],
   "source": [
    "import sys\n",
    "sys.path.append('/home/fenglab/Desktop/transdiff_GRN/src/')\n",
    "\n",
    "from find_modules import *\n",
    "from topology import *"
   ]
  },
  {
   "cell_type": "code",
   "execution_count": 2,
   "id": "5ce5bf7e",
   "metadata": {},
   "outputs": [],
   "source": [
    "import seaborn as sns\n",
    "from scipy import stats\n",
    "\n",
    "random_s = 10\n",
    "random.seed(random_s)"
   ]
  },
  {
   "cell_type": "code",
   "execution_count": 9,
   "id": "60bb2677",
   "metadata": {},
   "outputs": [],
   "source": [
    "with open('./../data/count_matrix.csv', 'r') as f:\n",
    "    lines = f.readlines()\n",
    "entrez_ids = {line.split(',')[0]:line.split(',')[2] for line in lines[1:]}\n",
    "        \n",
    "with open('./../data/grn_expression.txt', 'r') as f:\n",
    "    lines = f.readlines()\n",
    "genes = [line.split('\\t')[0] for line in lines[1:]]\n",
    "\n",
    "with open('./../data/QuickGO-annotations-TFs.tsv', 'r') as f:\n",
    "    lines = f.readlines()\n",
    "tfs = [line.split('\\t')[2] for line in lines[1:]]\n",
    "grntfs = list(set(tfs)&set(genes))"
   ]
  },
  {
   "cell_type": "code",
   "execution_count": 3,
   "id": "05246208",
   "metadata": {},
   "outputs": [],
   "source": [
    "treatments = ['Anp', 'AMn', 'AMp', 'AMnp']"
   ]
  },
  {
   "cell_type": "code",
   "execution_count": 4,
   "id": "00f01f95",
   "metadata": {},
   "outputs": [
    {
     "name": "stdout",
     "output_type": "stream",
     "text": [
      "edges 916\n",
      "nodes 333\n",
      "mean weight 0.5559480100451062\n",
      "mean degree 5.501501501501502\n"
     ]
    }
   ],
   "source": [
    "DG = read_directed_grn(f'./../results/GRN/{treatments[1]}_1.txt')\n",
    "DGp = remove_edge(DG, 0.48, component='positive')\n",
    "print(f'edges {len(DGp.edges())}')\n",
    "print(f'nodes {len(DGp.nodes())}')\n",
    "print(f'''mean weight {np.sum([w for _, _, w in list(DGp.edges.data('weight'))])/len(DGp.edges())}''')\n",
    "print(f'mean degree {np.sum(list(dict(DGp.degree()).values()))/len(DGp.nodes())}')"
   ]
  },
  {
   "cell_type": "code",
   "execution_count": 5,
   "id": "56bc9744",
   "metadata": {},
   "outputs": [],
   "source": [
    "x1, y1 = plot_degree(DGp, n_bins=20)"
   ]
  },
  {
   "cell_type": "code",
   "execution_count": 6,
   "id": "9c02a47d",
   "metadata": {},
   "outputs": [
    {
     "data": {
      "text/plain": [
       "[<matplotlib.lines.Line2D at 0x7f5c06c92310>]"
      ]
     },
     "execution_count": 6,
     "metadata": {},
     "output_type": "execute_result"
    },
    {
     "data": {
      "image/png": "[encoded data removed]",
      "text/plain": [
       "<Figure size 576x432 with 1 Axes>"
      ]
     },
     "metadata": {
      "needs_background": "light"
     },
     "output_type": "display_data"
    }
   ],
   "source": [
    "fig = plt.figure(figsize=(8, 6))\n",
    "ax = fig.add_subplot(1, 1, 1)\n",
    "ax.loglog(x1,y1, 'o')"
   ]
  },
  {
   "cell_type": "code",
   "execution_count": null,
   "id": "15d8b3cd",
   "metadata": {},
   "outputs": [],
   "source": [
    "skg = skn.data.convert_edge_list(list(DGp.edges.data('weight')), directed=True)\n",
    "louvain = skn.clustering.Louvain(random_state=random_s)\n",
    "labels = louvain.fit_transform(skg.adjacency)\n",
    "part_p = skmp_to_nxp(skg, DGp, labels)"
   ]
  },
  {
   "cell_type": "code",
   "execution_count": null,
   "id": "edc15931",
   "metadata": {},
   "outputs": [],
   "source": [
    "pos = community_layout(DGp, partition=part_p, scales_c=2.4)\n",
    "fig, ax = plt.subplots(figsize=(13, 12))\n",
    "nx.draw(DGlp, pos, node_color=[get_cmap(part_p)[v] for v in list(part_p.values())], \n",
    "        node_size=30, \n",
    "        width=0.1*np.array(list(nx.get_edge_attributes(DGp, 'weight').values())))\n",
    "plt.show()"
   ]
  }
 ],
 "metadata": {
  "kernelspec": {
   "display_name": "Python 3",
   "language": "python",
   "name": "python3"
  },
  "language_info": {
   "codemirror_mode": {
    "name": "ipython",
    "version": 3
   },
   "file_extension": ".py",
   "mimetype": "text/x-python",
   "name": "python",
   "nbconvert_exporter": "python",
   "pygments_lexer": "ipython3",
   "version": "3.7.9"
  },
  "vscode": {
   "interpreter": {
    "hash": "0dc7cd06eb0a4b2955c7728053ef68133413e34118b41a8dbbd2feb8d60f903c"
   }
  }
 },
 "nbformat": 4,
 "nbformat_minor": 5
}
